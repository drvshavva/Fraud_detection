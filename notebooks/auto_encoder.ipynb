{
 "cells": [
  {
   "cell_type": "code",
   "execution_count": 1,
   "id": "6ff19c2e",
   "metadata": {},
   "outputs": [
    {
     "name": "stderr",
     "output_type": "stream",
     "text": [
      "2022-01-04 00:48:25.104363: W tensorflow/stream_executor/platform/default/dso_loader.cc:60] Could not load dynamic library 'libcudart.so.11.0'; dlerror: libcudart.so.11.0: cannot open shared object file: No such file or directory\n",
      "2022-01-04 00:48:25.104405: I tensorflow/stream_executor/cuda/cudart_stub.cc:29] Ignore above cudart dlerror if you do not have a GPU set up on your machine.\n"
     ]
    }
   ],
   "source": [
    "from src.pipeline.auto_encoder import AutoEncoder, get_normal_train_data\n",
    "from tensorflow.keras.layers import Dense, Input, Dropout\n",
    "\n",
    "from sklearn.metrics import classification_report, confusion_matrix\n",
    "from sklearn.model_selection import train_test_split\n",
    "from sklearn.preprocessing import StandardScaler\n",
    "import tensorflow as tf\n",
    "import numpy as np\n",
    "import pandas as pd\n",
    "import seaborn as sns\n",
    "from sklearn.metrics import confusion_matrix, recall_score, accuracy_score, precision_score\n",
    "\n",
    "from src.utils.rw_utils import read_from_csv\n",
    "import warnings\n",
    "\n",
    "warnings.filterwarnings(action='ignore')"
   ]
  },
  {
   "cell_type": "code",
   "execution_count": 2,
   "id": "bf71f1d7",
   "metadata": {},
   "outputs": [],
   "source": [
    "# resource: https://towardsdatascience.com/anomaly-detection-using-autoencoders-5b032178a1ea"
   ]
  },
  {
   "cell_type": "code",
   "execution_count": 3,
   "id": "bdcbbb55",
   "metadata": {},
   "outputs": [
    {
     "name": "stdout",
     "output_type": "stream",
     "text": [
      "Data is read. Len of the data 283726 and columns Index(['Time', 'V1', 'V2', 'V3', 'V4', 'V5', 'V6', 'V7', 'V8', 'V9', 'V10',\n",
      "       'V11', 'V12', 'V13', 'V14', 'V15', 'V16', 'V17', 'V18', 'V19', 'V20',\n",
      "       'V21', 'V22', 'V23', 'V24', 'V25', 'V26', 'V27', 'V28', 'Amount',\n",
      "       'Class'],\n",
      "      dtype='object')\n"
     ]
    },
    {
     "data": {
      "text/plain": "   Time        V1        V2        V3        V4        V5        V6        V7  \\\n0   0.0 -1.359807 -0.072781  2.536347  1.378155 -0.338321  0.462388  0.239599   \n1   0.0  1.191857  0.266151  0.166480  0.448154  0.060018 -0.082361 -0.078803   \n2   1.0 -1.358354 -1.340163  1.773209  0.379780 -0.503198  1.800499  0.791461   \n3   1.0 -0.966272 -0.185226  1.792993 -0.863291 -0.010309  1.247203  0.237609   \n4   2.0 -1.158233  0.877737  1.548718  0.403034 -0.407193  0.095921  0.592941   \n\n         V8        V9  ...       V21       V22       V23       V24       V25  \\\n0  0.098698  0.363787  ... -0.018307  0.277838 -0.110474  0.066928  0.128539   \n1  0.085102 -0.255425  ... -0.225775 -0.638672  0.101288 -0.339846  0.167170   \n2  0.247676 -1.514654  ...  0.247998  0.771679  0.909412 -0.689281 -0.327642   \n3  0.377436 -1.387024  ... -0.108300  0.005274 -0.190321 -1.175575  0.647376   \n4 -0.270533  0.817739  ... -0.009431  0.798278 -0.137458  0.141267 -0.206010   \n\n        V26       V27       V28  Amount  Class  \n0 -0.189115  0.133558 -0.021053  149.62      0  \n1  0.125895 -0.008983  0.014724    2.69      0  \n2 -0.139097 -0.055353 -0.059752  378.66      0  \n3 -0.221929  0.062723  0.061458  123.50      0  \n4  0.502292  0.219422  0.215153   69.99      0  \n\n[5 rows x 31 columns]",
      "text/html": "<div>\n<style scoped>\n    .dataframe tbody tr th:only-of-type {\n        vertical-align: middle;\n    }\n\n    .dataframe tbody tr th {\n        vertical-align: top;\n    }\n\n    .dataframe thead th {\n        text-align: right;\n    }\n</style>\n<table border=\"1\" class=\"dataframe\">\n  <thead>\n    <tr style=\"text-align: right;\">\n      <th></th>\n      <th>Time</th>\n      <th>V1</th>\n      <th>V2</th>\n      <th>V3</th>\n      <th>V4</th>\n      <th>V5</th>\n      <th>V6</th>\n      <th>V7</th>\n      <th>V8</th>\n      <th>V9</th>\n      <th>...</th>\n      <th>V21</th>\n      <th>V22</th>\n      <th>V23</th>\n      <th>V24</th>\n      <th>V25</th>\n      <th>V26</th>\n      <th>V27</th>\n      <th>V28</th>\n      <th>Amount</th>\n      <th>Class</th>\n    </tr>\n  </thead>\n  <tbody>\n    <tr>\n      <th>0</th>\n      <td>0.0</td>\n      <td>-1.359807</td>\n      <td>-0.072781</td>\n      <td>2.536347</td>\n      <td>1.378155</td>\n      <td>-0.338321</td>\n      <td>0.462388</td>\n      <td>0.239599</td>\n      <td>0.098698</td>\n      <td>0.363787</td>\n      <td>...</td>\n      <td>-0.018307</td>\n      <td>0.277838</td>\n      <td>-0.110474</td>\n      <td>0.066928</td>\n      <td>0.128539</td>\n      <td>-0.189115</td>\n      <td>0.133558</td>\n      <td>-0.021053</td>\n      <td>149.62</td>\n      <td>0</td>\n    </tr>\n    <tr>\n      <th>1</th>\n      <td>0.0</td>\n      <td>1.191857</td>\n      <td>0.266151</td>\n      <td>0.166480</td>\n      <td>0.448154</td>\n      <td>0.060018</td>\n      <td>-0.082361</td>\n      <td>-0.078803</td>\n      <td>0.085102</td>\n      <td>-0.255425</td>\n      <td>...</td>\n      <td>-0.225775</td>\n      <td>-0.638672</td>\n      <td>0.101288</td>\n      <td>-0.339846</td>\n      <td>0.167170</td>\n      <td>0.125895</td>\n      <td>-0.008983</td>\n      <td>0.014724</td>\n      <td>2.69</td>\n      <td>0</td>\n    </tr>\n    <tr>\n      <th>2</th>\n      <td>1.0</td>\n      <td>-1.358354</td>\n      <td>-1.340163</td>\n      <td>1.773209</td>\n      <td>0.379780</td>\n      <td>-0.503198</td>\n      <td>1.800499</td>\n      <td>0.791461</td>\n      <td>0.247676</td>\n      <td>-1.514654</td>\n      <td>...</td>\n      <td>0.247998</td>\n      <td>0.771679</td>\n      <td>0.909412</td>\n      <td>-0.689281</td>\n      <td>-0.327642</td>\n      <td>-0.139097</td>\n      <td>-0.055353</td>\n      <td>-0.059752</td>\n      <td>378.66</td>\n      <td>0</td>\n    </tr>\n    <tr>\n      <th>3</th>\n      <td>1.0</td>\n      <td>-0.966272</td>\n      <td>-0.185226</td>\n      <td>1.792993</td>\n      <td>-0.863291</td>\n      <td>-0.010309</td>\n      <td>1.247203</td>\n      <td>0.237609</td>\n      <td>0.377436</td>\n      <td>-1.387024</td>\n      <td>...</td>\n      <td>-0.108300</td>\n      <td>0.005274</td>\n      <td>-0.190321</td>\n      <td>-1.175575</td>\n      <td>0.647376</td>\n      <td>-0.221929</td>\n      <td>0.062723</td>\n      <td>0.061458</td>\n      <td>123.50</td>\n      <td>0</td>\n    </tr>\n    <tr>\n      <th>4</th>\n      <td>2.0</td>\n      <td>-1.158233</td>\n      <td>0.877737</td>\n      <td>1.548718</td>\n      <td>0.403034</td>\n      <td>-0.407193</td>\n      <td>0.095921</td>\n      <td>0.592941</td>\n      <td>-0.270533</td>\n      <td>0.817739</td>\n      <td>...</td>\n      <td>-0.009431</td>\n      <td>0.798278</td>\n      <td>-0.137458</td>\n      <td>0.141267</td>\n      <td>-0.206010</td>\n      <td>0.502292</td>\n      <td>0.219422</td>\n      <td>0.215153</td>\n      <td>69.99</td>\n      <td>0</td>\n    </tr>\n  </tbody>\n</table>\n<p>5 rows × 31 columns</p>\n</div>"
     },
     "execution_count": 3,
     "metadata": {},
     "output_type": "execute_result"
    }
   ],
   "source": [
    "data = read_from_csv(\"preprocessed.csv\")\n",
    "data.head()"
   ]
  },
  {
   "cell_type": "code",
   "execution_count": 4,
   "id": "7decae25",
   "metadata": {},
   "outputs": [],
   "source": [
    "label_column_name = \"Class\"\n",
    "x, y = data.drop([label_column_name], axis=1), data[[label_column_name]]"
   ]
  },
  {
   "cell_type": "code",
   "execution_count": 5,
   "id": "1f084d7f",
   "metadata": {},
   "outputs": [],
   "source": [
    "# train-test split\n",
    "x_train, x_test, y_train, y_test = train_test_split(x, y, test_size=0.2, random_state=42)"
   ]
  },
  {
   "cell_type": "code",
   "execution_count": 6,
   "id": "5f63813d",
   "metadata": {},
   "outputs": [],
   "source": [
    "# scaler\n",
    "scaler = StandardScaler()\n",
    "x_train = scaler.fit_transform(x_train)\n",
    "x_test = scaler.transform(x_test)"
   ]
  },
  {
   "cell_type": "code",
   "execution_count": 7,
   "id": "e700af70",
   "metadata": {},
   "outputs": [],
   "source": [
    "train_fraud, train_normal = get_normal_train_data(x_train, y_train)"
   ]
  },
  {
   "cell_type": "code",
   "execution_count": 8,
   "id": "a3c28a96",
   "metadata": {},
   "outputs": [],
   "source": [
    "test_fraud, test_normal = get_normal_train_data(x_test, y_test)"
   ]
  },
  {
   "cell_type": "code",
   "execution_count": 9,
   "id": "c4a06333",
   "metadata": {},
   "outputs": [],
   "source": [
    "# sadece örnek sayısı fazla olan sınıfı kullanalım\n",
    "nb_epoch = 50\n",
    "batch_size = 64\n",
    "encoding_dim = 14\n",
    "hidden_dim_1 = int(encoding_dim / 2) #\n",
    "hidden_dim_2=4  \n",
    "input_dim = x_train.shape[1]\n",
    "learning_rate = 1e-7"
   ]
  },
  {
   "cell_type": "code",
   "execution_count": 10,
   "id": "014e3681",
   "metadata": {},
   "outputs": [],
   "source": [
    "encoder_layers = [Dense(units=encoding_dim, input_dim = input_dim, activation=\"tanh\", activity_regularizer=tf.keras.regularizers.l2(learning_rate)),\n",
    "                  Dropout(0.2),\n",
    "                  Dense(hidden_dim_1, activation='relu'),\n",
    "                  Dense(hidden_dim_2, activation=tf.nn.leaky_relu)]\n",
    "decoder_layers = [Dense(hidden_dim_1, activation='relu'),\n",
    "                  Dropout(0.2),\n",
    "                  Dense(encoding_dim, activation='relu'), \n",
    "                  Dense(input_dim, activation='tanh')]"
   ]
  },
  {
   "cell_type": "code",
   "execution_count": 11,
   "id": "e02a8f68",
   "metadata": {},
   "outputs": [
    {
     "name": "stderr",
     "output_type": "stream",
     "text": [
      "2022-01-04 00:48:31.723282: I tensorflow/compiler/jit/xla_cpu_device.cc:41] Not creating XLA devices, tf_xla_enable_xla_devices not set\n",
      "2022-01-04 00:48:31.729261: I tensorflow/stream_executor/platform/default/dso_loader.cc:49] Successfully opened dynamic library libcuda.so.1\n",
      "2022-01-04 00:48:31.742033: E tensorflow/stream_executor/cuda/cuda_driver.cc:328] failed call to cuInit: CUDA_ERROR_NO_DEVICE: no CUDA-capable device is detected\n",
      "2022-01-04 00:48:31.742053: I tensorflow/stream_executor/cuda/cuda_diagnostics.cc:156] kernel driver does not appear to be running on this host (havvanur-VirtualBox): /proc/driver/nvidia/version does not exist\n",
      "2022-01-04 00:48:31.744367: I tensorflow/core/platform/cpu_feature_guard.cc:142] This TensorFlow binary is optimized with oneAPI Deep Neural Network Library (oneDNN) to use the following CPU instructions in performance-critical operations:  AVX2\n",
      "To enable them in other operations, rebuild TensorFlow with the appropriate compiler flags.\n",
      "2022-01-04 00:48:31.746483: I tensorflow/compiler/jit/xla_gpu_device.cc:99] Not creating XLA devices, tf_xla_enable_xla_devices not set\n"
     ]
    }
   ],
   "source": [
    "model = AutoEncoder(encoder_layers=encoder_layers, decoder_layers=decoder_layers)"
   ]
  },
  {
   "cell_type": "code",
   "execution_count": 12,
   "id": "6ebe67ff",
   "metadata": {},
   "outputs": [],
   "source": [
    "model.compile(metrics=['accuracy'],\n",
    "              loss='mean_squared_error',\n",
    "              optimizer='adam')"
   ]
  },
  {
   "cell_type": "code",
   "execution_count": 13,
   "id": "5b63f3a6",
   "metadata": {
    "scrolled": true
   },
   "outputs": [
    {
     "name": "stderr",
     "output_type": "stream",
     "text": [
      "2022-01-04 00:48:34.136492: W tensorflow/core/framework/cpu_allocator_impl.cc:80] Allocation of 27191640 exceeds 10% of free system memory.\n",
      "2022-01-04 00:48:34.166266: W tensorflow/core/framework/cpu_allocator_impl.cc:80] Allocation of 27191640 exceeds 10% of free system memory.\n",
      "2022-01-04 00:48:34.215896: I tensorflow/compiler/mlir/mlir_graph_optimization_pass.cc:116] None of the MLIR optimization passes are enabled (registered 2)\n",
      "2022-01-04 00:48:34.221392: I tensorflow/core/platform/profile_utils/cpu_utils.cc:112] CPU Frequency: 2303995000 Hz\n"
     ]
    },
    {
     "name": "stdout",
     "output_type": "stream",
     "text": [
      "Epoch 1/50\n",
      "3541/3541 [==============================] - 6s 2ms/step - loss: 0.8750 - accuracy: 0.1239 - val_loss: 0.7913 - val_accuracy: 0.1714\n",
      "Epoch 2/50\n",
      "3541/3541 [==============================] - 5s 1ms/step - loss: 0.8029 - accuracy: 0.1642 - val_loss: 0.7794 - val_accuracy: 0.1794\n",
      "Epoch 3/50\n",
      "3541/3541 [==============================] - 5s 1ms/step - loss: 0.8140 - accuracy: 0.1768 - val_loss: 0.7671 - val_accuracy: 0.1930\n",
      "Epoch 4/50\n",
      "3541/3541 [==============================] - 5s 1ms/step - loss: 0.7847 - accuracy: 0.1862 - val_loss: 0.7591 - val_accuracy: 0.2107\n",
      "Epoch 5/50\n",
      "3541/3541 [==============================] - 6s 2ms/step - loss: 0.7732 - accuracy: 0.1900 - val_loss: 0.7530 - val_accuracy: 0.1938\n",
      "Epoch 6/50\n",
      "3541/3541 [==============================] - 5s 2ms/step - loss: 0.7871 - accuracy: 0.1904 - val_loss: 0.7499 - val_accuracy: 0.2220\n",
      "Epoch 7/50\n",
      "3541/3541 [==============================] - 6s 2ms/step - loss: 0.7745 - accuracy: 0.2006 - val_loss: 0.7494 - val_accuracy: 0.2300\n",
      "Epoch 8/50\n",
      "3541/3541 [==============================] - 5s 1ms/step - loss: 0.7966 - accuracy: 0.2104 - val_loss: 0.7436 - val_accuracy: 0.2351\n",
      "Epoch 9/50\n",
      "3541/3541 [==============================] - 5s 1ms/step - loss: 0.7737 - accuracy: 0.2149 - val_loss: 0.7405 - val_accuracy: 0.2376\n",
      "Epoch 10/50\n",
      "3541/3541 [==============================] - 5s 2ms/step - loss: 0.7645 - accuracy: 0.2199 - val_loss: 0.7403 - val_accuracy: 0.2442\n",
      "Epoch 11/50\n",
      "3541/3541 [==============================] - 5s 2ms/step - loss: 0.7642 - accuracy: 0.2203 - val_loss: 0.7386 - val_accuracy: 0.2570\n",
      "Epoch 12/50\n",
      "3541/3541 [==============================] - 5s 1ms/step - loss: 0.7885 - accuracy: 0.2238 - val_loss: 0.7404 - val_accuracy: 0.2529\n",
      "Epoch 13/50\n",
      "3541/3541 [==============================] - 5s 2ms/step - loss: 0.7675 - accuracy: 0.2262 - val_loss: 0.7392 - val_accuracy: 0.2627\n",
      "Epoch 14/50\n",
      "3541/3541 [==============================] - 5s 1ms/step - loss: 0.7627 - accuracy: 0.2267 - val_loss: 0.7401 - val_accuracy: 0.2588\n",
      "Epoch 15/50\n",
      "3541/3541 [==============================] - 5s 1ms/step - loss: 0.7777 - accuracy: 0.2286 - val_loss: 0.7372 - val_accuracy: 0.2603\n",
      "Epoch 16/50\n",
      "3541/3541 [==============================] - 5s 1ms/step - loss: 0.7584 - accuracy: 0.2296 - val_loss: 0.7367 - val_accuracy: 0.2595\n",
      "Epoch 17/50\n",
      "3541/3541 [==============================] - 5s 1ms/step - loss: 0.7820 - accuracy: 0.2301 - val_loss: 0.7384 - val_accuracy: 0.2639\n",
      "Epoch 18/50\n",
      "3541/3541 [==============================] - 5s 1ms/step - loss: 0.7719 - accuracy: 0.2296 - val_loss: 0.7385 - val_accuracy: 0.2611\n",
      "Epoch 19/50\n",
      "3541/3541 [==============================] - 5s 2ms/step - loss: 0.7561 - accuracy: 0.2287 - val_loss: 0.7396 - val_accuracy: 0.2610\n",
      "Epoch 20/50\n",
      "3541/3541 [==============================] - 5s 2ms/step - loss: 0.7585 - accuracy: 0.2303 - val_loss: 0.7380 - val_accuracy: 0.2599\n",
      "Epoch 21/50\n",
      "3541/3541 [==============================] - 5s 2ms/step - loss: 0.7553 - accuracy: 0.2310 - val_loss: 0.7405 - val_accuracy: 0.2620\n",
      "Epoch 22/50\n",
      "3541/3541 [==============================] - 5s 2ms/step - loss: 0.7616 - accuracy: 0.2311 - val_loss: 0.7397 - val_accuracy: 0.2553\n",
      "Epoch 23/50\n",
      "3541/3541 [==============================] - 5s 1ms/step - loss: 0.7517 - accuracy: 0.2296 - val_loss: 0.7403 - val_accuracy: 0.2528\n",
      "Epoch 24/50\n",
      "3541/3541 [==============================] - 5s 1ms/step - loss: 0.7634 - accuracy: 0.2278 - val_loss: 0.7380 - val_accuracy: 0.2505\n",
      "Epoch 25/50\n",
      "3541/3541 [==============================] - 5s 2ms/step - loss: 0.7689 - accuracy: 0.2279 - val_loss: 0.7387 - val_accuracy: 0.2534\n",
      "Epoch 26/50\n",
      "3541/3541 [==============================] - 5s 1ms/step - loss: 0.7571 - accuracy: 0.2249 - val_loss: 0.7355 - val_accuracy: 0.2467\n",
      "Epoch 27/50\n",
      "3541/3541 [==============================] - 5s 2ms/step - loss: 0.7604 - accuracy: 0.2207 - val_loss: 0.7370 - val_accuracy: 0.2408\n",
      "Epoch 28/50\n",
      "3541/3541 [==============================] - 6s 2ms/step - loss: 0.7604 - accuracy: 0.2206 - val_loss: 0.7333 - val_accuracy: 0.2482\n",
      "Epoch 29/50\n",
      "3541/3541 [==============================] - 6s 2ms/step - loss: 0.7709 - accuracy: 0.2213 - val_loss: 0.7359 - val_accuracy: 0.2554\n",
      "Epoch 30/50\n",
      "3541/3541 [==============================] - 6s 2ms/step - loss: 0.7693 - accuracy: 0.2216 - val_loss: 0.7359 - val_accuracy: 0.2540\n",
      "Epoch 31/50\n",
      "3541/3541 [==============================] - 6s 2ms/step - loss: 0.7621 - accuracy: 0.2224 - val_loss: 0.7362 - val_accuracy: 0.2544\n",
      "Epoch 32/50\n",
      "3541/3541 [==============================] - 5s 2ms/step - loss: 0.7524 - accuracy: 0.2236 - val_loss: 0.7307 - val_accuracy: 0.2548\n",
      "Epoch 33/50\n",
      "3541/3541 [==============================] - 5s 1ms/step - loss: 0.7532 - accuracy: 0.2255 - val_loss: 0.7316 - val_accuracy: 0.2646\n",
      "Epoch 34/50\n",
      "3541/3541 [==============================] - 5s 1ms/step - loss: 0.7554 - accuracy: 0.2327 - val_loss: 0.7269 - val_accuracy: 0.2588\n",
      "Epoch 35/50\n",
      "3541/3541 [==============================] - 5s 1ms/step - loss: 0.7557 - accuracy: 0.2348 - val_loss: 0.7280 - val_accuracy: 0.2542\n",
      "Epoch 36/50\n",
      "3541/3541 [==============================] - 5s 1ms/step - loss: 0.7430 - accuracy: 0.2382 - val_loss: 0.7248 - val_accuracy: 0.2589\n",
      "Epoch 37/50\n",
      "3541/3541 [==============================] - 5s 1ms/step - loss: 0.7399 - accuracy: 0.2393 - val_loss: 0.7269 - val_accuracy: 0.2596\n",
      "Epoch 38/50\n",
      "3541/3541 [==============================] - 5s 1ms/step - loss: 0.7465 - accuracy: 0.2392 - val_loss: 0.7232 - val_accuracy: 0.2666\n",
      "Epoch 39/50\n",
      "3541/3541 [==============================] - 5s 1ms/step - loss: 0.7549 - accuracy: 0.2411 - val_loss: 0.7229 - val_accuracy: 0.2673\n",
      "Epoch 40/50\n",
      "3541/3541 [==============================] - 5s 1ms/step - loss: 0.7519 - accuracy: 0.2419 - val_loss: 0.7279 - val_accuracy: 0.2636\n",
      "Epoch 41/50\n",
      "3541/3541 [==============================] - 5s 1ms/step - loss: 0.7554 - accuracy: 0.2447 - val_loss: 0.7266 - val_accuracy: 0.2745\n",
      "Epoch 42/50\n",
      "3541/3541 [==============================] - 5s 1ms/step - loss: 0.7397 - accuracy: 0.2445 - val_loss: 0.7243 - val_accuracy: 0.2692\n",
      "Epoch 43/50\n",
      "3541/3541 [==============================] - 5s 1ms/step - loss: 0.7316 - accuracy: 0.2440 - val_loss: 0.7250 - val_accuracy: 0.2712\n",
      "Epoch 44/50\n",
      "3541/3541 [==============================] - 5s 1ms/step - loss: 0.7622 - accuracy: 0.2490 - val_loss: 0.7322 - val_accuracy: 0.2653\n",
      "Epoch 45/50\n",
      "3541/3541 [==============================] - 5s 1ms/step - loss: 0.7598 - accuracy: 0.2460 - val_loss: 0.7250 - val_accuracy: 0.2771\n",
      "Epoch 46/50\n",
      "3541/3541 [==============================] - 5s 1ms/step - loss: 0.7572 - accuracy: 0.2479 - val_loss: 0.7258 - val_accuracy: 0.2759\n",
      "Epoch 47/50\n",
      "3541/3541 [==============================] - 5s 1ms/step - loss: 0.7469 - accuracy: 0.2465 - val_loss: 0.7201 - val_accuracy: 0.2786\n",
      "Epoch 48/50\n",
      "3541/3541 [==============================] - 5s 1ms/step - loss: 0.7419 - accuracy: 0.2453 - val_loss: 0.7224 - val_accuracy: 0.2795\n",
      "Epoch 49/50\n",
      "3541/3541 [==============================] - 5s 1ms/step - loss: 0.7353 - accuracy: 0.2474 - val_loss: 0.7240 - val_accuracy: 0.2741\n",
      "Epoch 50/50\n",
      "3541/3541 [==============================] - 5s 1ms/step - loss: 0.7491 - accuracy: 0.2465 - val_loss: 0.7236 - val_accuracy: 0.2815\n"
     ]
    }
   ],
   "source": [
    "history =  model.fit(train_normal, train_normal,\n",
    "                      epochs=nb_epoch,\n",
    "                      batch_size=batch_size,\n",
    "                      shuffle=True,\n",
    "                      validation_data=(x_test, x_test),\n",
    "                      verbose=1).history"
   ]
  },
  {
   "cell_type": "code",
   "execution_count": 14,
   "id": "16019466",
   "metadata": {},
   "outputs": [
    {
     "data": {
      "text/plain": "<Figure size 432x288 with 1 Axes>",
      "image/png": "[encoded data removed]"
     },
     "metadata": {
      "needs_background": "light"
     },
     "output_type": "display_data"
    }
   ],
   "source": [
    "import matplotlib.pyplot as plt\n",
    "\n",
    "plt.plot(history['loss'], linewidth=2, label='Train')\n",
    "plt.plot(history['val_loss'], linewidth=2, label='Test')\n",
    "plt.legend(loc='upper right')\n",
    "plt.title('Model loss')\n",
    "plt.ylabel('Loss')\n",
    "plt.xlabel('Epoch')\n",
    "#plt.ylim(ymin=0.70,ymax=1)\n",
    "plt.show()"
   ]
  },
  {
   "cell_type": "code",
   "execution_count": 15,
   "id": "cf2f57b3",
   "metadata": {
    "scrolled": true
   },
   "outputs": [
    {
     "data": {
      "text/plain": "       Reconstruction_error  True_class\n0                  0.429322           0\n1                  2.048392           0\n2                  0.625730           0\n3                  0.273028           0\n4                  1.094484           0\n...                     ...         ...\n56741              1.152809           0\n56742              0.353683           0\n56743              0.330399           0\n56744              0.587194           0\n56745              0.775251           0\n\n[56746 rows x 2 columns]",
      "text/html": "<div>\n<style scoped>\n    .dataframe tbody tr th:only-of-type {\n        vertical-align: middle;\n    }\n\n    .dataframe tbody tr th {\n        vertical-align: top;\n    }\n\n    .dataframe thead th {\n        text-align: right;\n    }\n</style>\n<table border=\"1\" class=\"dataframe\">\n  <thead>\n    <tr style=\"text-align: right;\">\n      <th></th>\n      <th>Reconstruction_error</th>\n      <th>True_class</th>\n    </tr>\n  </thead>\n  <tbody>\n    <tr>\n      <th>0</th>\n      <td>0.429322</td>\n      <td>0</td>\n    </tr>\n    <tr>\n      <th>1</th>\n      <td>2.048392</td>\n      <td>0</td>\n    </tr>\n    <tr>\n      <th>2</th>\n      <td>0.625730</td>\n      <td>0</td>\n    </tr>\n    <tr>\n      <th>3</th>\n      <td>0.273028</td>\n      <td>0</td>\n    </tr>\n    <tr>\n      <th>4</th>\n      <td>1.094484</td>\n      <td>0</td>\n    </tr>\n    <tr>\n      <th>...</th>\n      <td>...</td>\n      <td>...</td>\n    </tr>\n    <tr>\n      <th>56741</th>\n      <td>1.152809</td>\n      <td>0</td>\n    </tr>\n    <tr>\n      <th>56742</th>\n      <td>0.353683</td>\n      <td>0</td>\n    </tr>\n    <tr>\n      <th>56743</th>\n      <td>0.330399</td>\n      <td>0</td>\n    </tr>\n    <tr>\n      <th>56744</th>\n      <td>0.587194</td>\n      <td>0</td>\n    </tr>\n    <tr>\n      <th>56745</th>\n      <td>0.775251</td>\n      <td>0</td>\n    </tr>\n  </tbody>\n</table>\n<p>56746 rows × 2 columns</p>\n</div>"
     },
     "execution_count": 15,
     "metadata": {},
     "output_type": "execute_result"
    }
   ],
   "source": [
    "test_x_predictions = model.predict(x_test)\n",
    "mse = np.mean(np.power(x_test - test_x_predictions, 2), axis=1)\n",
    "error_df = pd.DataFrame({'Reconstruction_error': mse,\n",
    "                        'True_class': y_test.values.reshape(-1)})\n",
    "error_df"
   ]
  },
  {
   "cell_type": "code",
   "execution_count": 24,
   "id": "3be6a978",
   "metadata": {},
   "outputs": [
    {
     "data": {
      "text/plain": "<Figure size 432x288 with 1 Axes>",
      "image/png": "[encoded data removed]"
     },
     "metadata": {
      "needs_background": "light"
     },
     "output_type": "display_data"
    }
   ],
   "source": [
    "threshold_fixed = 15\n",
    "groups = error_df.groupby('True_class')\n",
    "fig, ax = plt.subplots()\n",
    "for name, group in groups:\n",
    "    ax.plot(group.index, group.Reconstruction_error, marker='o', ms=3.5, linestyle='',\n",
    "            label= \"Fraud\" if name == 1 else \"Normal\")\n",
    "ax.hlines(threshold_fixed, ax.get_xlim()[0], ax.get_xlim()[1], colors=\"r\", zorder=100, label='Threshold')\n",
    "ax.legend()\n",
    "plt.title(\"Reconstruction error for normal and fraud data\")\n",
    "plt.ylabel(\"Reconstruction error\")\n",
    "plt.xlabel(\"Data point index\")\n",
    "plt.show();"
   ]
  },
  {
   "cell_type": "code",
   "execution_count": 25,
   "id": "95f03558",
   "metadata": {},
   "outputs": [
    {
     "data": {
      "text/plain": "<Figure size 288x288 with 2 Axes>",
      "image/png": "[encoded data removed]"
     },
     "metadata": {
      "needs_background": "light"
     },
     "output_type": "display_data"
    },
    {
     "name": "stdout",
     "output_type": "stream",
     "text": [
      " Accuracy:  0.9960525852042434\n",
      " Recall:  0.34444444444444444\n",
      " Precision:  0.15816326530612246\n"
     ]
    }
   ],
   "source": [
    "RANDOM_SEED = 2021\n",
    "TEST_PCT = 0.3\n",
    "LABELS = [\"Normal\",\"Fraud\"]\n",
    "pred_y = [1 if e > threshold_fixed else 0 for e in error_df.Reconstruction_error.values]\n",
    "error_df['pred'] =pred_y\n",
    "conf_matrix = confusion_matrix(error_df.True_class, pred_y)\n",
    "plt.figure(figsize=(4, 4))\n",
    "sns.heatmap(conf_matrix, xticklabels=LABELS, yticklabels=LABELS, annot=True, fmt=\"d\");\n",
    "plt.title(\"Confusion matrix\")\n",
    "plt.ylabel('True class')\n",
    "plt.xlabel('Predicted class')\n",
    "plt.show()\n",
    "# print Accuracy, precision and recall\n",
    "print(\" Accuracy: \",accuracy_score(error_df['True_class'], error_df['pred']))\n",
    "print(\" Recall: \",recall_score(error_df['True_class'], error_df['pred']))\n",
    "print(\" Precision: \",precision_score(error_df['True_class'], error_df['pred']))"
   ]
  },
  {
   "cell_type": "code",
   "execution_count": null,
   "id": "bde6cf9c",
   "metadata": {},
   "outputs": [],
   "source": []
  }
 ],
 "metadata": {
  "kernelspec": {
   "display_name": "Python 3 (ipykernel)",
   "language": "python",
   "name": "python3"
  },
  "language_info": {
   "codemirror_mode": {
    "name": "ipython",
    "version": 3
   },
   "file_extension": ".py",
   "mimetype": "text/x-python",
   "name": "python",
   "nbconvert_exporter": "python",
   "pygments_lexer": "ipython3",
   "version": "3.7.10"
  }
 },
 "nbformat": 4,
 "nbformat_minor": 5
}